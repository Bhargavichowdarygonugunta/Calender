{
  "nbformat": 4,
  "nbformat_minor": 0,
  "metadata": {
    "colab": {
      "provenance": [],
      "authorship_tag": "ABX9TyNTjTC3cgpXK5BMcVmzA5k4",
      "include_colab_link": true
    },
    "kernelspec": {
      "name": "python3",
      "display_name": "Python 3"
    },
    "language_info": {
      "name": "python"
    }
  },
  "cells": [
    {
      "cell_type": "markdown",
      "metadata": {
        "id": "view-in-github",
        "colab_type": "text"
      },
      "source": [
        "<a href=\"https://colab.research.google.com/github/Bhargavichowdarygonugunta/Calender/blob/main/Copy_of_Untitled5.ipynb\" target=\"_parent\"><img src=\"https://colab.research.google.com/assets/colab-badge.svg\" alt=\"Open In Colab\"/></a>"
      ]
    },
    {
      "cell_type": "code",
      "source": [
        "import nltk\n",
        "nltk.download('punkt')\n",
        "nltk.download('stopwords')\n",
        "nltk.download('punkt_tab')\n",
        "from nltk.tokenize import word_tokenize\n",
        "from nltk.corpus import stopwords\n",
        "from nltk.stem import PorterStemmer\n",
        "text = \"Natural Language Processing అనేది కంప్యూటర్లు భాషను అర్థం చేసుకునే విధానం.\"\n",
        "tokens = word_tokenize(text)\n",
        "print(\"Tokens:\", tokens)\n",
        "filtered_tokens = [word for word in tokens if word.isalpha()]\n",
        "print(\"Filtered Tokens:\", filtered_tokens)\n",
        "english_tokens = [word for word in filtered_tokens if all(ord(c) < 128 for c in word)]\n",
        "print(\"English-only Tokens:\", english_tokens)\n",
        "stop_words = set(stopwords.words('english'))\n",
        "no_stopwords = [word for word in english_tokens if word.lower() not in stop_words]\n",
        "print(\"Without Stopwords:\", no_stopwords)\n",
        "stemmer = PorterStemmer()\n",
        "stemmed_words = [stemmer.stem(word) for word in no_stopwords]\n",
        "print(\"Stemmed Words:\", stemmed_words)"
      ],
      "metadata": {
        "colab": {
          "base_uri": "https://localhost:8080/"
        },
        "id": "4hiDQeQqRtab",
        "outputId": "995fbf3c-29f4-4989-a115-1b89a5568421"
      },
      "execution_count": null,
      "outputs": [
        {
          "output_type": "stream",
          "name": "stdout",
          "text": [
            "Tokens: ['Natural', 'Language', 'Processing', 'అనేది', 'కంప్యూటర్లు', 'భాషను', 'అర్థం', 'చేసుకునే', 'విధానం', '.']\n",
            "Filtered Tokens: ['Natural', 'Language', 'Processing']\n",
            "English-only Tokens: ['Natural', 'Language', 'Processing']\n",
            "Without Stopwords: ['Natural', 'Language', 'Processing']\n",
            "Stemmed Words: ['natur', 'languag', 'process']\n"
          ]
        },
        {
          "output_type": "stream",
          "name": "stderr",
          "text": [
            "[nltk_data] Downloading package punkt to /root/nltk_data...\n",
            "[nltk_data]   Package punkt is already up-to-date!\n",
            "[nltk_data] Downloading package stopwords to /root/nltk_data...\n",
            "[nltk_data]   Package stopwords is already up-to-date!\n",
            "[nltk_data] Downloading package punkt_tab to /root/nltk_data...\n",
            "[nltk_data]   Package punkt_tab is already up-to-date!\n"
          ]
        }
      ]
    }
  ]
}